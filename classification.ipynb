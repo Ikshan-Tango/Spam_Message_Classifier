{
  "cells": [
    {
      "cell_type": "code",
      "execution_count": 38,
      "metadata": {
        "colab": {
          "base_uri": "https://localhost:8080/"
        },
        "id": "8togY-64t_Zy",
        "outputId": "20566e32-06e2-47e1-c758-7dacd0a32f65"
      },
      "outputs": [
        {
          "name": "stderr",
          "output_type": "stream",
          "text": [
            "[nltk_data] Downloading package stopwords to /root/nltk_data...\n",
            "[nltk_data]   Package stopwords is already up-to-date!\n",
            "[nltk_data] Downloading package wordnet to /root/nltk_data...\n",
            "[nltk_data]   Package wordnet is already up-to-date!\n"
          ]
        }
      ],
      "source": [
        "\"\"\"\n",
        "    IMPORT THE NECCESSARY LIBRARIES\n",
        "\"\"\"\n",
        "import pandas as pd\n",
        "import re\n",
        "import nltk\n",
        "nltk.download('stopwords')\n",
        "nltk.download('wordnet')\n",
        "from nltk.corpus import stopwords\n",
        "from nltk.stem import WordNetLemmatizer\n",
        "from sklearn.feature_extraction.text import CountVectorizer, TfidfVectorizer\n",
        "from sklearn.model_selection import train_test_split\n",
        "from sklearn.naive_bayes import MultinomialNB"
      ]
    },
    {
      "cell_type": "code",
      "execution_count": 39,
      "metadata": {
        "id": "uf9rchHzt_Z0"
      },
      "outputs": [],
      "source": [
        "\"\"\"\n",
        "    Importing the dataset\n",
        "\"\"\"\n",
        "\n",
        "DATA = pd.read_csv('/content/SMSSpamCollection', sep='\\t', names=[\"label\", \"message\"])"
      ]
    },
    {
      "cell_type": "code",
      "execution_count": 40,
      "metadata": {
        "id": "zBO1Jd1vt_Z1"
      },
      "outputs": [],
      "source": [
        "\"\"\"\n",
        "    UTILITY TO CHECK CORPUS\n",
        "\"\"\"\n",
        "def print_arr(arr, num):\n",
        "  for i in range(num):\n",
        "    print(\"Line Number->\",i,\" ->   \",arr[i], \"\\n\")"
      ]
    },
    {
      "cell_type": "code",
      "execution_count": 52,
      "metadata": {
        "colab": {
          "base_uri": "https://localhost:8080/"
        },
        "id": "J6UcKgeQ5fRr",
        "outputId": "492556bd-6858-48d2-c5b6-d817bbc656a2"
      },
      "outputs": [
        {
          "name": "stdout",
          "output_type": "stream",
          "text": [
            "     label                                            message\n",
            "0      ham  Go until jurong point, crazy.. Available only ...\n",
            "1      ham                      Ok lar... Joking wif u oni...\n",
            "2     spam  Free entry in 2 a wkly comp to win FA Cup fina...\n",
            "3      ham  U dun say so early hor... U c already then say...\n",
            "4      ham  Nah I don't think he goes to usf, he lives aro...\n",
            "...    ...                                                ...\n",
            "5567  spam  This is the 2nd time we have tried 2 contact u...\n",
            "5568   ham               Will ü b going to esplanade fr home?\n",
            "5569   ham  Pity, * was in mood for that. So...any other s...\n",
            "5570   ham  The guy did some bitching but I acted like i'd...\n",
            "5571   ham                         Rofl. Its true to its name\n",
            "\n",
            "[5572 rows x 2 columns]\n"
          ]
        }
      ],
      "source": [
        "print(DATA)"
      ]
    },
    {
      "cell_type": "code",
      "execution_count": 53,
      "metadata": {
        "id": "bvZi54Hgt_Z1"
      },
      "outputs": [],
      "source": [
        "\"\"\"\n",
        "    Data cleaning and preprocessing\n",
        "\"\"\"\n",
        "lemmatizer = WordNetLemmatizer()\n",
        "\n",
        "def clean_and_preproccess_the_corpus(data):\n",
        "  corpus = []\n",
        "  for i in range(len(data)):\n",
        "\n",
        "      new = re.sub('[^a-zA-Z]',' ',data[\"message\"][i]) # Keep only ascii alphabets\n",
        "      new = new.lower() # Lowercasing the corpus\n",
        "      new = new.split() # Splitting the paragraph into sentences\n",
        "      new = [lemmatizer.lemmatize(word) for word in new if not word in set(stopwords.words('english'))] #Lemmatizing the word if it is not a stopword else rejecting it\n",
        "      new = ' '.join(new)\n",
        "      corpus.append(new)\n",
        "  print_arr(corpus, 10)\n",
        "  return corpus"
      ]
    },
    {
      "cell_type": "code",
      "execution_count": 54,
      "metadata": {
        "colab": {
          "base_uri": "https://localhost:8080/"
        },
        "id": "TdE8U6lr6bat",
        "outputId": "b50c72ff-784c-4efd-c888-ed75f29c7f3f"
      },
      "outputs": [
        {
          "name": "stdout",
          "output_type": "stream",
          "text": [
            "Line Number-> 0  ->    go jurong point crazy available bugis n great world la e buffet cine got amore wat \n",
            "\n",
            "Line Number-> 1  ->    ok lar joking wif u oni \n",
            "\n",
            "Line Number-> 2  ->    free entry wkly comp win fa cup final tkts st may text fa receive entry question std txt rate c apply \n",
            "\n",
            "Line Number-> 3  ->    u dun say early hor u c already say \n",
            "\n",
            "Line Number-> 4  ->    nah think go usf life around though \n",
            "\n",
            "Line Number-> 5  ->    freemsg hey darling week word back like fun still tb ok xxx std chgs send rcv \n",
            "\n",
            "Line Number-> 6  ->    even brother like speak treat like aid patent \n",
            "\n",
            "Line Number-> 7  ->    per request melle melle oru minnaminunginte nurungu vettam set callertune caller press copy friend callertune \n",
            "\n",
            "Line Number-> 8  ->    winner valued network customer selected receivea prize reward claim call claim code kl valid hour \n",
            "\n",
            "Line Number-> 9  ->    mobile month u r entitled update latest colour mobile camera free call mobile update co free \n",
            "\n"
          ]
        }
      ],
      "source": [
        "corpus = clean_and_preproccess_the_corpus(DATA)"
      ]
    },
    {
      "cell_type": "code",
      "execution_count": 56,
      "metadata": {
        "id": "LsaevIdnt_Z1"
      },
      "outputs": [],
      "source": [
        "\"\"\"\n",
        "   Creating the Bag of words model\n",
        "   For TF-IDF use -> TfidfVectorizer\n",
        "\"\"\"\n",
        "\n",
        "cv = TfidfVectorizer(max_features=4000) # 4000 is the maximum number of features our model can have\n",
        "X = cv.fit_transform(corpus).toarray()\n",
        "\n",
        "\"\"\"\n",
        "  Conerting HAM and SPAM to 0 and 1 encodings\n",
        "\"\"\"\n",
        "y=pd.get_dummies(DATA['label'])\n",
        "y=y.iloc[:,1].values\n"
      ]
    },
    {
      "cell_type": "code",
      "execution_count": 57,
      "metadata": {
        "id": "nz84xLlot_Z2"
      },
      "outputs": [],
      "source": [
        "X_train, X_test, y_train, y_test = train_test_split(X, y, test_size = 0.20, random_state = 0)"
      ]
    },
    {
      "cell_type": "code",
      "execution_count": 58,
      "metadata": {
        "id": "37Z7KjqS5Smx"
      },
      "outputs": [],
      "source": [
        "# Training model using Naive bayes classifier\n",
        "\n",
        "from sklearn.naive_bayes import MultinomialNB\n",
        "spam_detect_model = MultinomialNB().fit(X_train, y_train)"
      ]
    },
    {
      "cell_type": "code",
      "execution_count": 59,
      "metadata": {
        "id": "IzrJ6ZIFt_Z2"
      },
      "outputs": [],
      "source": [
        "y_pred=spam_detect_model.predict(X_test)"
      ]
    },
    {
      "cell_type": "code",
      "execution_count": 60,
      "metadata": {
        "colab": {
          "base_uri": "https://localhost:8080/"
        },
        "id": "jjYPGryHt_Z2",
        "outputId": "dcd23d8f-0de0-4e79-8e3f-c9a5710eea9a"
      },
      "outputs": [
        {
          "data": {
            "text/plain": [
              "array([0, 0, 0, ..., 0, 1, 0], dtype=uint8)"
            ]
          },
          "execution_count": 60,
          "metadata": {},
          "output_type": "execute_result"
        }
      ],
      "source": [
        "y_pred"
      ]
    },
    {
      "cell_type": "code",
      "execution_count": 62,
      "metadata": {
        "colab": {
          "base_uri": "https://localhost:8080/"
        },
        "id": "lEGfJsYQt_Z2",
        "outputId": "64784023-b8c7-4253-8f7a-171bc7d4fdad"
      },
      "outputs": [
        {
          "name": "stdout",
          "output_type": "stream",
          "text": [
            "Accuracy of our model is : 0.9775784753363229\n"
          ]
        }
      ],
      "source": [
        "\"\"\"\n",
        "  Getting the accuracy of my model\n",
        "\"\"\"\n",
        "\n",
        "from sklearn.metrics import confusion_matrix\n",
        "cm = confusion_matrix(y_pred,y_test)\n",
        "\n",
        "from sklearn.metrics import accuracy_score\n",
        "accuracy = accuracy_score(y_test,y_pred)\n",
        "\n",
        "print(\"Accuracy of our model is :\",accuracy)"
      ]
    },
    {
      "cell_type": "code",
      "execution_count": 64,
      "metadata": {
        "colab": {
          "base_uri": "https://localhost:8080/"
        },
        "id": "4-L1QRCft_Z3",
        "outputId": "6001f707-1b1c-41f1-adf2-df622da16569"
      },
      "outputs": [
        {
          "name": "stdout",
          "output_type": "stream",
          "text": [
            "The sentence is classified as: ham\n"
          ]
        }
      ],
      "source": [
        "\"\"\"\n",
        "    Making an example and testing it out as well\n",
        "\"\"\"\n",
        "\n",
        "# Preprocess the input sentence\n",
        "input_sentence = \"Hello customer, get 10,000$ discount for free, click on this link www.ikshan.com\"\n",
        "input2 = \"Hello how are you bro?\"\n",
        "input3 = \"Can we meet someday later?\"\n",
        "input4 = \"your OTP is 4356, do not share this with anyone\"\n",
        "preprocessed_sentence = re.sub('[^a-zA-Z]', ' ', input4)  # Remove non-alphabetic characters\n",
        "preprocessed_sentence = preprocessed_sentence.lower()  # Convert to lowercase\n",
        "preprocessed_sentence = preprocessed_sentence.split()  # Tokenize into words\n",
        "preprocessed_sentence = [lemmatizer.lemmatize(word) for word in preprocessed_sentence if word not in set(stopwords.words('english'))]  # Remove stopwords and lemmatize\n",
        "preprocessed_sentence = ' '.join(preprocessed_sentence)\n",
        "\n",
        "# Convert the preprocessed sentence to TF-IDF representation\n",
        "sentence_tfidf = cv.transform([preprocessed_sentence]).toarray()\n",
        "\n",
        "# Use the trained model to predict the label\n",
        "prediction = spam_detect_model.predict(sentence_tfidf)\n",
        "\n",
        "# Map the prediction to the corresponding label\n",
        "label = \"spam\" if prediction[0] == 1 else \"ham\"\n",
        "\n",
        "print(\"The sentence is classified as:\", label)"
      ]
    },
    {
      "cell_type": "code",
      "execution_count": null,
      "metadata": {
        "id": "ysdq-ulEwQ9t"
      },
      "outputs": [],
      "source": []
    }
  ],
  "metadata": {
    "colab": {
      "provenance": []
    },
    "kernelspec": {
      "display_name": "env",
      "language": "python",
      "name": "python3"
    },
    "language_info": {
      "codemirror_mode": {
        "name": "ipython",
        "version": 3
      },
      "file_extension": ".py",
      "mimetype": "text/x-python",
      "name": "python",
      "nbconvert_exporter": "python",
      "pygments_lexer": "ipython3",
      "version": "3.10.12"
    }
  },
  "nbformat": 4,
  "nbformat_minor": 0
}
